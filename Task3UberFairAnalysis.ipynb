{
 "cells": [
  {
   "cell_type": "markdown",
   "id": "5afd8d34-84b1-4b3e-ae23-50dd3d409c2d",
   "metadata": {},
   "source": [
    "# Innomatics Research Labs\n",
    "### Internship September 2024\n",
    "## Task 3 - Uber Fare Analysis\n",
    "\n",
    "As a Data Analyst Intern with Uber.\r",
    "###### TASK STATEMENT\n",
    "Performm analysis and ML modelling on rides data recorded between 2009-01-01 and\r\n",
    "2015-06-30."
   ]
  },
  {
   "cell_type": "markdown",
   "id": "0fb2c07f-05da-4ff1-a99c-67f8eeab38c4",
   "metadata": {},
   "source": [
    "### Import Libraries"
   ]
  },
  {
   "cell_type": "code",
   "execution_count": 542,
   "id": "9455f22c-1790-4b11-98e7-f291b0c5cded",
   "metadata": {},
   "outputs": [],
   "source": [
    "import pandas as pd\n",
    "import numpy as np"
   ]
  },
  {
   "cell_type": "code",
   "execution_count": 544,
   "id": "2a01a850-f36c-42b7-b1a6-dc8406676dcc",
   "metadata": {},
   "outputs": [],
   "source": [
    "#Load Dataset\n",
    "df=pd.read_excel(\"uber_rides_data.xlsx\")"
   ]
  },
  {
   "cell_type": "code",
   "execution_count": 546,
   "id": "8214f286-c9eb-4ff1-8f04-0865dd8fa29f",
   "metadata": {},
   "outputs": [
    {
     "data": {
      "text/html": [
       "<div>\n",
       "<style scoped>\n",
       "    .dataframe tbody tr th:only-of-type {\n",
       "        vertical-align: middle;\n",
       "    }\n",
       "\n",
       "    .dataframe tbody tr th {\n",
       "        vertical-align: top;\n",
       "    }\n",
       "\n",
       "    .dataframe thead th {\n",
       "        text-align: right;\n",
       "    }\n",
       "</style>\n",
       "<table border=\"1\" class=\"dataframe\">\n",
       "  <thead>\n",
       "    <tr style=\"text-align: right;\">\n",
       "      <th></th>\n",
       "      <th>ride_id</th>\n",
       "      <th>fare_amount</th>\n",
       "      <th>pickup_datetime</th>\n",
       "      <th>pickup_longitude</th>\n",
       "      <th>pickup_latitude</th>\n",
       "      <th>dropoff_longitude</th>\n",
       "      <th>dropoff_latitude</th>\n",
       "      <th>passenger_count</th>\n",
       "    </tr>\n",
       "  </thead>\n",
       "  <tbody>\n",
       "    <tr>\n",
       "      <th>0</th>\n",
       "      <td>24238194</td>\n",
       "      <td>7.5</td>\n",
       "      <td>2015-05-07 19:52:06 UTC</td>\n",
       "      <td>-73.999817</td>\n",
       "      <td>40.738354</td>\n",
       "      <td>-73.999512</td>\n",
       "      <td>40.723217</td>\n",
       "      <td>1</td>\n",
       "    </tr>\n",
       "    <tr>\n",
       "      <th>1</th>\n",
       "      <td>27835199</td>\n",
       "      <td>7.7</td>\n",
       "      <td>2009-07-17 20:04:56 UTC</td>\n",
       "      <td>-73.994355</td>\n",
       "      <td>40.728225</td>\n",
       "      <td>-73.994710</td>\n",
       "      <td>40.750325</td>\n",
       "      <td>1</td>\n",
       "    </tr>\n",
       "    <tr>\n",
       "      <th>2</th>\n",
       "      <td>44984355</td>\n",
       "      <td>12.9</td>\n",
       "      <td>2009-08-24 21:45:00 UTC</td>\n",
       "      <td>-74.005043</td>\n",
       "      <td>40.740770</td>\n",
       "      <td>-73.962565</td>\n",
       "      <td>40.772647</td>\n",
       "      <td>1</td>\n",
       "    </tr>\n",
       "    <tr>\n",
       "      <th>3</th>\n",
       "      <td>25894730</td>\n",
       "      <td>5.3</td>\n",
       "      <td>2009-06-26 08:22:21 UTC</td>\n",
       "      <td>-73.976124</td>\n",
       "      <td>40.790844</td>\n",
       "      <td>-73.965316</td>\n",
       "      <td>40.803349</td>\n",
       "      <td>3</td>\n",
       "    </tr>\n",
       "    <tr>\n",
       "      <th>4</th>\n",
       "      <td>17610152</td>\n",
       "      <td>16.0</td>\n",
       "      <td>2014-08-28 17:47:00 UTC</td>\n",
       "      <td>-73.925023</td>\n",
       "      <td>40.744085</td>\n",
       "      <td>-73.973082</td>\n",
       "      <td>40.761247</td>\n",
       "      <td>5</td>\n",
       "    </tr>\n",
       "  </tbody>\n",
       "</table>\n",
       "</div>"
      ],
      "text/plain": [
       "    ride_id  fare_amount          pickup_datetime  pickup_longitude  \\\n",
       "0  24238194          7.5  2015-05-07 19:52:06 UTC        -73.999817   \n",
       "1  27835199          7.7  2009-07-17 20:04:56 UTC        -73.994355   \n",
       "2  44984355         12.9  2009-08-24 21:45:00 UTC        -74.005043   \n",
       "3  25894730          5.3  2009-06-26 08:22:21 UTC        -73.976124   \n",
       "4  17610152         16.0  2014-08-28 17:47:00 UTC        -73.925023   \n",
       "\n",
       "   pickup_latitude  dropoff_longitude  dropoff_latitude  passenger_count  \n",
       "0        40.738354         -73.999512         40.723217                1  \n",
       "1        40.728225         -73.994710         40.750325                1  \n",
       "2        40.740770         -73.962565         40.772647                1  \n",
       "3        40.790844         -73.965316         40.803349                3  \n",
       "4        40.744085         -73.973082         40.761247                5  "
      ]
     },
     "execution_count": 546,
     "metadata": {},
     "output_type": "execute_result"
    }
   ],
   "source": [
    "df.head()"
   ]
  },
  {
   "cell_type": "code",
   "execution_count": 548,
   "id": "c3c32b1b-ca3f-43c1-97ef-1cdf22363174",
   "metadata": {},
   "outputs": [
    {
     "data": {
      "text/plain": [
       "(200000, 8)"
      ]
     },
     "execution_count": 548,
     "metadata": {},
     "output_type": "execute_result"
    }
   ],
   "source": [
    "#What is the shape of given dataset?\n",
    "df.shape"
   ]
  },
  {
   "cell_type": "code",
   "execution_count": 550,
   "id": "b379d555-175a-4fed-a311-b17d83681641",
   "metadata": {},
   "outputs": [
    {
     "name": "stdout",
     "output_type": "stream",
     "text": [
      "<class 'pandas.core.frame.DataFrame'>\n",
      "RangeIndex: 200000 entries, 0 to 199999\n",
      "Data columns (total 8 columns):\n",
      " #   Column             Non-Null Count   Dtype  \n",
      "---  ------             --------------   -----  \n",
      " 0   ride_id            200000 non-null  int64  \n",
      " 1   fare_amount        200000 non-null  float64\n",
      " 2   pickup_datetime    200000 non-null  object \n",
      " 3   pickup_longitude   200000 non-null  float64\n",
      " 4   pickup_latitude    200000 non-null  float64\n",
      " 5   dropoff_longitude  199999 non-null  float64\n",
      " 6   dropoff_latitude   199999 non-null  float64\n",
      " 7   passenger_count    200000 non-null  int64  \n",
      "dtypes: float64(5), int64(2), object(1)\n",
      "memory usage: 12.2+ MB\n"
     ]
    }
   ],
   "source": [
    "df.info()"
   ]
  },
  {
   "cell_type": "code",
   "execution_count": 552,
   "id": "9e52a708-7177-438b-94f8-323b4f6b2d67",
   "metadata": {},
   "outputs": [],
   "source": [
    "#How many integer columns(by default) are given in the dataset?\n",
    "#Answer: 2 columns are integer by default i.e. ride_id and passenger_count"
   ]
  },
  {
   "cell_type": "code",
   "execution_count": 554,
   "id": "e5aee90f-b589-4fcb-b7e4-6edbcf90ccac",
   "metadata": {},
   "outputs": [
    {
     "name": "stdout",
     "output_type": "stream",
     "text": [
      "Number of missing values in 'dropoff_longitude': 1\n"
     ]
    }
   ],
   "source": [
    "#Check how many missing values are in the 'dropoff_longitude' column\n",
    "missing_values_count = df['dropoff_longitude'].isnull().sum()\n",
    "print(f\"Number of missing values in 'dropoff_longitude': {missing_values_count}\")"
   ]
  },
  {
   "cell_type": "code",
   "execution_count": 556,
   "id": "c80765a8-d2c4-4bf6-900b-885c9edd2eba",
   "metadata": {},
   "outputs": [],
   "source": [
    "#How many missing values exists in 'dropoff_longitude' column?\n",
    "#Answer: There is only 1 missing value in \"dropoff_longitute\" column."
   ]
  },
  {
   "cell_type": "code",
   "execution_count": 558,
   "id": "99105ab0-6ff5-449a-a3aa-9fcd57dbb595",
   "metadata": {},
   "outputs": [],
   "source": [
    "df = df.dropna(subset=['dropoff_longitude'])"
   ]
  },
  {
   "cell_type": "code",
   "execution_count": 560,
   "id": "f4e62b5a-b5c7-4785-bdbc-e60393e22085",
   "metadata": {},
   "outputs": [
    {
     "name": "stdout",
     "output_type": "stream",
     "text": [
      "Number of missing values in 'dropoff_longitude': 0\n"
     ]
    }
   ],
   "source": [
    "missing_values_count = df['dropoff_longitude'].isnull().sum()\n",
    "print(f\"Number of missing values in 'dropoff_longitude': {missing_values_count}\")"
   ]
  },
  {
   "cell_type": "code",
   "execution_count": 562,
   "id": "12f4d27c-f16a-41f6-8640-85bb1fff7389",
   "metadata": {},
   "outputs": [
    {
     "name": "stdout",
     "output_type": "stream",
     "text": [
      "Number of missing values in 'dropoff_latitude': 0\n"
     ]
    }
   ],
   "source": [
    "df = df.dropna(subset=['dropoff_latitude'])\n",
    "missing_values_count = df['dropoff_latitude'].isnull().sum()\n",
    "print(f\"Number of missing values in 'dropoff_latitude': {missing_values_count}\")"
   ]
  },
  {
   "cell_type": "code",
   "execution_count": 564,
   "id": "b5ad3be3-3ec7-4420-849f-11488611ff38",
   "metadata": {},
   "outputs": [
    {
     "data": {
      "text/plain": [
       "dtype('O')"
      ]
     },
     "execution_count": 564,
     "metadata": {},
     "output_type": "execute_result"
    }
   ],
   "source": [
    "#What is the datatpe of pickup_datetime column in the given dataset?\n",
    "df['pickup_datetime'].dtype"
   ]
  },
  {
   "cell_type": "code",
   "execution_count": 566,
   "id": "cff5198f-da38-4544-9750-85414146de68",
   "metadata": {},
   "outputs": [
    {
     "name": "stdout",
     "output_type": "stream",
     "text": [
      "datetime64[ns, UTC]\n"
     ]
    }
   ],
   "source": [
    "#what is correct syntax to convert pickup_datetime datatype from 'object' to 'datetime'?\n",
    "df['pickup_datetime'] = pd.to_datetime(df['pickup_datetime'])\n",
    "print(df.dtypes['pickup_datetime'])\n",
    "# We can also use syntax-\"df['pickup_datetime'].astype('datetime64[ns]')\" "
   ]
  },
  {
   "cell_type": "code",
   "execution_count": 567,
   "id": "dcff546e-3693-4a31-a47c-d95f9d050a1f",
   "metadata": {},
   "outputs": [],
   "source": [
    "#Remove rows with null values in the 'fare_amount' column (and other relevant columns)\n",
    "df_cleaned = df.dropna(subset=['fare_amount'])\n"
   ]
  },
  {
   "cell_type": "code",
   "execution_count": null,
   "id": "f70ec2cf-0956-4a5b-8225-46842ca6b44e",
   "metadata": {},
   "outputs": [],
   "source": []
  },
  {
   "cell_type": "code",
   "execution_count": 571,
   "id": "d491c088-2aa2-4064-8650-2936a3b9eeb8",
   "metadata": {},
   "outputs": [
    {
     "name": "stdout",
     "output_type": "stream",
     "text": [
      "The average fare amount is: $11.36\n"
     ]
    }
   ],
   "source": [
    "#Calculate the average fare amount\n",
    "average_fare = df_cleaned['fare_amount'].mean()\n",
    "\n",
    "#Print the result\n",
    "print(f\"The average fare amount is: ${average_fare:.2f}\")"
   ]
  },
  {
   "cell_type": "code",
   "execution_count": 573,
   "id": "7b133925-6da9-486c-b61e-20c9add41e61",
   "metadata": {},
   "outputs": [],
   "source": [
    "#What is the average fare amount?\n",
    "#Answer: The average fare amount is: $11.36"
   ]
  },
  {
   "cell_type": "code",
   "execution_count": 575,
   "id": "13f4c60e-51cf-40d6-8fd2-f5cd5fa2f72c",
   "metadata": {},
   "outputs": [
    {
     "name": "stdout",
     "output_type": "stream",
     "text": [
      "Number of null values count fare_amount: 0\n"
     ]
    }
   ],
   "source": [
    "null_values_count_fare_amount = df['fare_amount'].isnull().sum()\n",
    "print(f\"Number of null values count fare_amount: {null_values_count_fare_amount}\")"
   ]
  },
  {
   "cell_type": "code",
   "execution_count": 577,
   "id": "137a6280-c269-4ccb-8273-6c07a4bd25d1",
   "metadata": {},
   "outputs": [],
   "source": [
    "#Calculate distance between each pickup and dropoff points using Haversine formula. \n",
    "#What is the median haversine distance between pickup and dropoff location according to the given dataset?\n",
    "\n",
    "# Haversine function to calculate the distance\n",
    "def haversine(long1, lat1, long2, lat2):\n",
    "    # Convert degrees to radians\n",
    "    long1, lat1, long2, lat2 = map(np.radians, [long1, lat1, long2, lat2])\n",
    "    \n",
    "    # Haversine formula\n",
    "    dlong = long2 - long1\n",
    "    dlat = lat2 - lat1\n",
    "    a = np.sin(dlat / 2.0)**2 + np.cos(lat1) * np.cos(lat2) * np.sin(dlong / 2.0)**2\n",
    "    c = 2 * np.arcsin(np.sqrt(a))\n",
    "    \n",
    "    # Earth's radius in kilometers (use 6371 for kilometers, 3959 for miles)\n",
    "    r = 6371\n",
    "    return c * r\n",
    "\n",
    "# Apply the haversine formula to calculate the distance for each row\n",
    "df_cleaned['haversine_distance'] = df_cleaned.apply(lambda row: haversine(row['pickup_longitude'], row['pickup_latitude'], row['dropoff_longitude'], row['dropoff_latitude']), axis=1)\n"
   ]
  },
  {
   "cell_type": "code",
   "execution_count": 579,
   "id": "aea716bd-368b-408f-a826-17be89592829",
   "metadata": {},
   "outputs": [
    {
     "name": "stdout",
     "output_type": "stream",
     "text": [
      "The median Haversine distance is: 2.12 km\n"
     ]
    }
   ],
   "source": [
    "# Calculate the median distance\n",
    "median_distance = df_cleaned['haversine_distance'].median()\n",
    "\n",
    "# Print the median Haversine distance\n",
    "print(f\"The median Haversine distance is: {median_distance:.2f} km\")"
   ]
  },
  {
   "cell_type": "code",
   "execution_count": null,
   "id": "12731556-7ba3-4a15-8cae-34df968ca6df",
   "metadata": {},
   "outputs": [],
   "source": []
  },
  {
   "cell_type": "code",
   "execution_count": 582,
   "id": "563d9de2-adb6-4bce-8872-5b898d918044",
   "metadata": {},
   "outputs": [
    {
     "name": "stdout",
     "output_type": "stream",
     "text": [
      "The maximum Haversine distance is: 16409.24 km\n"
     ]
    }
   ],
   "source": [
    "# Calculate the maximum distance\n",
    "max_distance = df_cleaned['haversine_distance'].max()\n",
    "\n",
    "# Print the maximum Haversine distance\n",
    "print(f\"The maximum Haversine distance is: {max_distance:.2f} km\")"
   ]
  },
  {
   "cell_type": "code",
   "execution_count": 584,
   "id": "b492ff8a-bb3a-437c-a8c3-d66425c76ee4",
   "metadata": {},
   "outputs": [],
   "source": [
    "#How many rides have 0.0 haversine distance between pickup and dropoff location according to the given dataset?"
   ]
  },
  {
   "cell_type": "code",
   "execution_count": 586,
   "id": "4475d715-64a4-4fb9-a8fa-2d9583ffd8ff",
   "metadata": {},
   "outputs": [
    {
     "name": "stdout",
     "output_type": "stream",
     "text": [
      "The number of rides with 0.0 Haversine distance is: 5632\n"
     ]
    }
   ],
   "source": [
    "# Count the number of rides where the Haversine distance is 0.0\n",
    "zero_distance_rides = df_cleaned[df_cleaned['haversine_distance'] == 0.0].shape[0]\n",
    "\n",
    "# Print the number of rides with 0.0 Haversine distance\n",
    "print(f\"The number of rides with 0.0 Haversine distance is: {zero_distance_rides}\")"
   ]
  },
  {
   "cell_type": "code",
   "execution_count": 588,
   "id": "9ef76f11-23bb-48a1-a2e1-30690a5d9b92",
   "metadata": {},
   "outputs": [],
   "source": [
    "#What is the mean 'fare_amount' for rides with 0 haversine distance?\n",
    "#Do you sense something fishy? Try to analyze, and give your expert opinion in Jupyter Notebook."
   ]
  },
  {
   "cell_type": "code",
   "execution_count": 590,
   "id": "e2887302-4123-4bf5-84cd-9f661a715b90",
   "metadata": {},
   "outputs": [
    {
     "data": {
      "text/html": [
       "<div>\n",
       "<style scoped>\n",
       "    .dataframe tbody tr th:only-of-type {\n",
       "        vertical-align: middle;\n",
       "    }\n",
       "\n",
       "    .dataframe tbody tr th {\n",
       "        vertical-align: top;\n",
       "    }\n",
       "\n",
       "    .dataframe thead th {\n",
       "        text-align: right;\n",
       "    }\n",
       "</style>\n",
       "<table border=\"1\" class=\"dataframe\">\n",
       "  <thead>\n",
       "    <tr style=\"text-align: right;\">\n",
       "      <th></th>\n",
       "      <th>ride_id</th>\n",
       "      <th>fare_amount</th>\n",
       "      <th>pickup_datetime</th>\n",
       "      <th>pickup_longitude</th>\n",
       "      <th>pickup_latitude</th>\n",
       "      <th>dropoff_longitude</th>\n",
       "      <th>dropoff_latitude</th>\n",
       "      <th>passenger_count</th>\n",
       "      <th>haversine_distance</th>\n",
       "    </tr>\n",
       "  </thead>\n",
       "  <tbody>\n",
       "    <tr>\n",
       "      <th>0</th>\n",
       "      <td>24238194</td>\n",
       "      <td>7.5</td>\n",
       "      <td>2015-05-07 19:52:06+00:00</td>\n",
       "      <td>-73.999817</td>\n",
       "      <td>40.738354</td>\n",
       "      <td>-73.999512</td>\n",
       "      <td>40.723217</td>\n",
       "      <td>1</td>\n",
       "      <td>1.683323</td>\n",
       "    </tr>\n",
       "    <tr>\n",
       "      <th>1</th>\n",
       "      <td>27835199</td>\n",
       "      <td>7.7</td>\n",
       "      <td>2009-07-17 20:04:56+00:00</td>\n",
       "      <td>-73.994355</td>\n",
       "      <td>40.728225</td>\n",
       "      <td>-73.994710</td>\n",
       "      <td>40.750325</td>\n",
       "      <td>1</td>\n",
       "      <td>2.457590</td>\n",
       "    </tr>\n",
       "    <tr>\n",
       "      <th>2</th>\n",
       "      <td>44984355</td>\n",
       "      <td>12.9</td>\n",
       "      <td>2009-08-24 21:45:00+00:00</td>\n",
       "      <td>-74.005043</td>\n",
       "      <td>40.740770</td>\n",
       "      <td>-73.962565</td>\n",
       "      <td>40.772647</td>\n",
       "      <td>1</td>\n",
       "      <td>5.036377</td>\n",
       "    </tr>\n",
       "    <tr>\n",
       "      <th>3</th>\n",
       "      <td>25894730</td>\n",
       "      <td>5.3</td>\n",
       "      <td>2009-06-26 08:22:21+00:00</td>\n",
       "      <td>-73.976124</td>\n",
       "      <td>40.790844</td>\n",
       "      <td>-73.965316</td>\n",
       "      <td>40.803349</td>\n",
       "      <td>3</td>\n",
       "      <td>1.661683</td>\n",
       "    </tr>\n",
       "    <tr>\n",
       "      <th>4</th>\n",
       "      <td>17610152</td>\n",
       "      <td>16.0</td>\n",
       "      <td>2014-08-28 17:47:00+00:00</td>\n",
       "      <td>-73.925023</td>\n",
       "      <td>40.744085</td>\n",
       "      <td>-73.973082</td>\n",
       "      <td>40.761247</td>\n",
       "      <td>5</td>\n",
       "      <td>4.475450</td>\n",
       "    </tr>\n",
       "  </tbody>\n",
       "</table>\n",
       "</div>"
      ],
      "text/plain": [
       "    ride_id  fare_amount           pickup_datetime  pickup_longitude  \\\n",
       "0  24238194          7.5 2015-05-07 19:52:06+00:00        -73.999817   \n",
       "1  27835199          7.7 2009-07-17 20:04:56+00:00        -73.994355   \n",
       "2  44984355         12.9 2009-08-24 21:45:00+00:00        -74.005043   \n",
       "3  25894730          5.3 2009-06-26 08:22:21+00:00        -73.976124   \n",
       "4  17610152         16.0 2014-08-28 17:47:00+00:00        -73.925023   \n",
       "\n",
       "   pickup_latitude  dropoff_longitude  dropoff_latitude  passenger_count  \\\n",
       "0        40.738354         -73.999512         40.723217                1   \n",
       "1        40.728225         -73.994710         40.750325                1   \n",
       "2        40.740770         -73.962565         40.772647                1   \n",
       "3        40.790844         -73.965316         40.803349                3   \n",
       "4        40.744085         -73.973082         40.761247                5   \n",
       "\n",
       "   haversine_distance  \n",
       "0            1.683323  \n",
       "1            2.457590  \n",
       "2            5.036377  \n",
       "3            1.661683  \n",
       "4            4.475450  "
      ]
     },
     "execution_count": 590,
     "metadata": {},
     "output_type": "execute_result"
    }
   ],
   "source": [
    "df_cleaned.head()"
   ]
  },
  {
   "cell_type": "code",
   "execution_count": 592,
   "id": "f779caf9-06c2-4e87-807e-2afc4e67ea35",
   "metadata": {},
   "outputs": [
    {
     "name": "stdout",
     "output_type": "stream",
     "text": [
      "     ride_id  fare_amount           pickup_datetime  pickup_longitude  \\\n",
      "5   44470845          4.9 2011-02-12 02:27:09+00:00        -73.969019   \n",
      "7   44195482          2.5 2012-12-11 13:52:00+00:00          0.000000   \n",
      "11   6379048          8.5 2011-05-23 22:15:00+00:00          0.000000   \n",
      "48  22405517         56.8 2013-01-03 22:24:41+00:00        -73.993498   \n",
      "65  21993993          6.0 2014-05-05 19:27:00+00:00          0.000000   \n",
      "\n",
      "    pickup_latitude  dropoff_longitude  dropoff_latitude  passenger_count  \\\n",
      "5         40.755910         -73.969019         40.755910                1   \n",
      "7          0.000000           0.000000          0.000000                1   \n",
      "11         0.000000           0.000000          0.000000                1   \n",
      "48        40.764686         -73.993498         40.764686                1   \n",
      "65         0.000000           0.000000          0.000000                1   \n",
      "\n",
      "    haversine_distance  \n",
      "5                  0.0  \n",
      "7                  0.0  \n",
      "11                 0.0  \n",
      "48                 0.0  \n",
      "65                 0.0  \n"
     ]
    }
   ],
   "source": [
    "# Create a DataFrame for rides with 0.0 Haversine distance\n",
    "zero_distance_rides = df_cleaned[df_cleaned['haversine_distance'] == 0.0]\n",
    "\n",
    "# Display the first few rows of the new DataFrame (optional)\n",
    "print(zero_distance_rides.head())"
   ]
  },
  {
   "cell_type": "code",
   "execution_count": 594,
   "id": "5c9ec606-f2e6-44ce-8ba5-abed7cf40d2c",
   "metadata": {},
   "outputs": [
    {
     "name": "stdout",
     "output_type": "stream",
     "text": [
      "The mean fare amount for rides with 0.0 Haversine distance is: $11.59\n"
     ]
    }
   ],
   "source": [
    "# Calculate the mean fare amount for rides with 0.0 Haversine distance\n",
    "mean_fare_zero_distance = zero_distance_rides['fare_amount'].mean()\n",
    "\n",
    "# Print the mean fare amount\n",
    "print(f\"The mean fare amount for rides with 0.0 Haversine distance is: ${mean_fare_zero_distance:.2f}\")"
   ]
  },
  {
   "cell_type": "code",
   "execution_count": null,
   "id": "56371517-610f-4cd1-9eeb-4a059aacf980",
   "metadata": {},
   "outputs": [],
   "source": []
  },
  {
   "cell_type": "code",
   "execution_count": 597,
   "id": "106bc995-fdf8-401d-b9d0-cef689d22e0a",
   "metadata": {},
   "outputs": [
    {
     "data": {
      "text/plain": [
       "499.0"
      ]
     },
     "execution_count": 597,
     "metadata": {},
     "output_type": "execute_result"
    }
   ],
   "source": [
    "#What is the maximum 'fare_amount' for a ride?\n",
    "df['fare_amount'].max()"
   ]
  },
  {
   "cell_type": "code",
   "execution_count": 599,
   "id": "80e43700-617b-4439-9438-77e7e9c46794",
   "metadata": {},
   "outputs": [],
   "source": [
    "#What is the haversine distance between pickup and dropoff location for the costliest ride?\n",
    "#Do you sense something fishy? Try to analyze, and give your expert opinion in Jupyter Notebook."
   ]
  },
  {
   "cell_type": "code",
   "execution_count": 601,
   "id": "8f3afb99-ba0d-4c6e-b510-f35be61f4523",
   "metadata": {},
   "outputs": [
    {
     "name": "stdout",
     "output_type": "stream",
     "text": [
      "The Haversine distance for the costliest ride is: 0.00 km\n"
     ]
    }
   ],
   "source": [
    "#Find the row with the maximum fare amount\n",
    "costliest_ride = df_cleaned.loc[df_cleaned['fare_amount'].idxmax()]\n",
    "\n",
    "#Extract the pickup and dropoff coordinates for the costliest ride\n",
    "pickup_long = costliest_ride['pickup_longitude']\n",
    "pickup_lat = costliest_ride['pickup_latitude']\n",
    "dropoff_long = costliest_ride['dropoff_longitude']\n",
    "dropoff_lat = costliest_ride['dropoff_latitude']\n",
    "\n",
    "#Calculate the Haversine distance for the costliest ride\n",
    "costliest_ride_distance = haversine(pickup_long, pickup_lat, dropoff_long, dropoff_lat)\n",
    "\n",
    "#Print the result\n",
    "print(f\"The Haversine distance for the costliest ride is: {costliest_ride_distance:.2f} km\")"
   ]
  },
  {
   "cell_type": "code",
   "execution_count": 603,
   "id": "1095e75f-26fa-415b-8416-d40db46d6449",
   "metadata": {},
   "outputs": [],
   "source": [
    "#Answer: The result of 0.00 km for the Haversine distance of the costliest ride might indicate that the pickup and dropoff locations are the same.\n",
    "#which is not acceptable for the costlier Uber ride.This is something suspicious!!\n",
    "#This may b e due to data entry errors!"
   ]
  },
  {
   "cell_type": "code",
   "execution_count": 605,
   "id": "6dd30b5a-b6d3-47de-b479-9c5bdd70ca57",
   "metadata": {},
   "outputs": [
    {
     "name": "stdout",
     "output_type": "stream",
     "text": [
      "ride_id                                51151143\n",
      "fare_amount                               499.0\n",
      "pickup_datetime       2011-04-10 04:10:00+00:00\n",
      "pickup_longitude                     -73.968377\n",
      "pickup_latitude                       40.764602\n",
      "dropoff_longitude                    -73.968368\n",
      "dropoff_latitude                        40.7646\n",
      "passenger_count                               1\n",
      "haversine_distance                      0.00079\n",
      "Name: 170081, dtype: object\n"
     ]
    }
   ],
   "source": [
    "print(costliest_ride)"
   ]
  },
  {
   "cell_type": "code",
   "execution_count": 607,
   "id": "37f7df36-4743-4fad-a64e-fa21c7e906fb",
   "metadata": {},
   "outputs": [
    {
     "name": "stdout",
     "output_type": "stream",
     "text": [
      "The Haversine distance for the costliest ride is: 0.00079 km\n"
     ]
    }
   ],
   "source": [
    "#Print the result\n",
    "print(f\"The Haversine distance for the costliest ride is: {costliest_ride_distance:.5f} km\")"
   ]
  },
  {
   "cell_type": "code",
   "execution_count": 609,
   "id": "509c6945-a4cf-42f9-a0ef-60ca0584713e",
   "metadata": {},
   "outputs": [
    {
     "data": {
      "text/html": [
       "<div>\n",
       "<style scoped>\n",
       "    .dataframe tbody tr th:only-of-type {\n",
       "        vertical-align: middle;\n",
       "    }\n",
       "\n",
       "    .dataframe tbody tr th {\n",
       "        vertical-align: top;\n",
       "    }\n",
       "\n",
       "    .dataframe thead th {\n",
       "        text-align: right;\n",
       "    }\n",
       "</style>\n",
       "<table border=\"1\" class=\"dataframe\">\n",
       "  <thead>\n",
       "    <tr style=\"text-align: right;\">\n",
       "      <th></th>\n",
       "      <th>ride_id</th>\n",
       "      <th>fare_amount</th>\n",
       "      <th>pickup_datetime</th>\n",
       "      <th>pickup_longitude</th>\n",
       "      <th>pickup_latitude</th>\n",
       "      <th>dropoff_longitude</th>\n",
       "      <th>dropoff_latitude</th>\n",
       "      <th>passenger_count</th>\n",
       "    </tr>\n",
       "  </thead>\n",
       "  <tbody>\n",
       "    <tr>\n",
       "      <th>0</th>\n",
       "      <td>24238194</td>\n",
       "      <td>7.5</td>\n",
       "      <td>2015-05-07 19:52:06+00:00</td>\n",
       "      <td>-73.999817</td>\n",
       "      <td>40.738354</td>\n",
       "      <td>-73.999512</td>\n",
       "      <td>40.723217</td>\n",
       "      <td>1</td>\n",
       "    </tr>\n",
       "    <tr>\n",
       "      <th>1</th>\n",
       "      <td>27835199</td>\n",
       "      <td>7.7</td>\n",
       "      <td>2009-07-17 20:04:56+00:00</td>\n",
       "      <td>-73.994355</td>\n",
       "      <td>40.728225</td>\n",
       "      <td>-73.994710</td>\n",
       "      <td>40.750325</td>\n",
       "      <td>1</td>\n",
       "    </tr>\n",
       "    <tr>\n",
       "      <th>2</th>\n",
       "      <td>44984355</td>\n",
       "      <td>12.9</td>\n",
       "      <td>2009-08-24 21:45:00+00:00</td>\n",
       "      <td>-74.005043</td>\n",
       "      <td>40.740770</td>\n",
       "      <td>-73.962565</td>\n",
       "      <td>40.772647</td>\n",
       "      <td>1</td>\n",
       "    </tr>\n",
       "    <tr>\n",
       "      <th>3</th>\n",
       "      <td>25894730</td>\n",
       "      <td>5.3</td>\n",
       "      <td>2009-06-26 08:22:21+00:00</td>\n",
       "      <td>-73.976124</td>\n",
       "      <td>40.790844</td>\n",
       "      <td>-73.965316</td>\n",
       "      <td>40.803349</td>\n",
       "      <td>3</td>\n",
       "    </tr>\n",
       "    <tr>\n",
       "      <th>4</th>\n",
       "      <td>17610152</td>\n",
       "      <td>16.0</td>\n",
       "      <td>2014-08-28 17:47:00+00:00</td>\n",
       "      <td>-73.925023</td>\n",
       "      <td>40.744085</td>\n",
       "      <td>-73.973082</td>\n",
       "      <td>40.761247</td>\n",
       "      <td>5</td>\n",
       "    </tr>\n",
       "  </tbody>\n",
       "</table>\n",
       "</div>"
      ],
      "text/plain": [
       "    ride_id  fare_amount           pickup_datetime  pickup_longitude  \\\n",
       "0  24238194          7.5 2015-05-07 19:52:06+00:00        -73.999817   \n",
       "1  27835199          7.7 2009-07-17 20:04:56+00:00        -73.994355   \n",
       "2  44984355         12.9 2009-08-24 21:45:00+00:00        -74.005043   \n",
       "3  25894730          5.3 2009-06-26 08:22:21+00:00        -73.976124   \n",
       "4  17610152         16.0 2014-08-28 17:47:00+00:00        -73.925023   \n",
       "\n",
       "   pickup_latitude  dropoff_longitude  dropoff_latitude  passenger_count  \n",
       "0        40.738354         -73.999512         40.723217                1  \n",
       "1        40.728225         -73.994710         40.750325                1  \n",
       "2        40.740770         -73.962565         40.772647                1  \n",
       "3        40.790844         -73.965316         40.803349                3  \n",
       "4        40.744085         -73.973082         40.761247                5  "
      ]
     },
     "execution_count": 609,
     "metadata": {},
     "output_type": "execute_result"
    }
   ],
   "source": [
    "df.head()"
   ]
  },
  {
   "cell_type": "code",
   "execution_count": 611,
   "id": "3f5647a5-a7c4-46e1-9005-c0bbcfcb0ad0",
   "metadata": {},
   "outputs": [
    {
     "name": "stdout",
     "output_type": "stream",
     "text": [
      "The number of rides recorded in 2014: 29968\n"
     ]
    }
   ],
   "source": [
    "#Extract the year from the 'pickup_datetime' column\n",
    "df_cleaned['pickup_year'] = df_cleaned['pickup_datetime'].dt.year\n",
    "\n",
    "#Filter the dataset for rides in the year 2014\n",
    "rides_2014 = df_cleaned[df_cleaned['pickup_year'] == 2014]\n",
    "\n",
    "#Count the number of rides in 2014\n",
    "rides_2014_count = rides_2014.shape[0]\n",
    "\n",
    "#Print the result\n",
    "print(f\"The number of rides recorded in 2014: {rides_2014_count}\")"
   ]
  },
  {
   "cell_type": "code",
   "execution_count": 613,
   "id": "ea52a7e3-8c02-4ffc-b979-71eb2ec92345",
   "metadata": {},
   "outputs": [],
   "source": [
    "#How many rides were recorded in the year 2014?\n",
    "#Answer : 29968"
   ]
  },
  {
   "cell_type": "code",
   "execution_count": 615,
   "id": "45a44517-c1d1-47c1-8899-ff78d9e73604",
   "metadata": {},
   "outputs": [
    {
     "name": "stdout",
     "output_type": "stream",
     "text": [
      "The number of rides recorded in the first quarter of 2014: 7687\n"
     ]
    }
   ],
   "source": [
    "# Extract year and month from 'pickup_datetime'\n",
    "#df_cleaned['pickup_year'] = df_cleaned['pickup_datetime'].dt.year\n",
    "df_cleaned['pickup_month'] = df_cleaned['pickup_datetime'].dt.month\n",
    "\n",
    "# Filter the dataset for rides in the first quarter (January to March) of 2014\n",
    "rides_first_quarter_2014 = df_cleaned[(df_cleaned['pickup_year'] == 2014) & (df_cleaned['pickup_month'].isin([1, 2, 3]))]\n",
    "\n",
    "# Count the number of rides in the first quarter of 2014\n",
    "rides_first_quarter_2014_count = rides_first_quarter_2014.shape[0]\n",
    "\n",
    "# Print the result\n",
    "print(f\"The number of rides recorded in the first quarter of 2014: {rides_first_quarter_2014_count}\")"
   ]
  },
  {
   "cell_type": "code",
   "execution_count": 617,
   "id": "0332bd5a-51df-41e5-a6a7-d55ea28d2954",
   "metadata": {},
   "outputs": [],
   "source": [
    "#How many rides were recorded in the first quarter of 2014?\n",
    "#Answer: The number of rides recorded in the first quarter of 2014 is 7687."
   ]
  },
  {
   "cell_type": "code",
   "execution_count": 619,
   "id": "69db5ef2-5756-40b1-916d-f2858615945f",
   "metadata": {},
   "outputs": [
    {
     "name": "stdout",
     "output_type": "stream",
     "text": [
      "The day of the week with the maximum rides in September 2010 is Thursday, with 457 rides.\n"
     ]
    },
    {
     "name": "stderr",
     "output_type": "stream",
     "text": [
      "C:\\Users\\Dell\\AppData\\Local\\Temp\\ipykernel_14644\\937782372.py:5: SettingWithCopyWarning: \n",
      "A value is trying to be set on a copy of a slice from a DataFrame.\n",
      "Try using .loc[row_indexer,col_indexer] = value instead\n",
      "\n",
      "See the caveats in the documentation: https://pandas.pydata.org/pandas-docs/stable/user_guide/indexing.html#returning-a-view-versus-a-copy\n",
      "  rides_september_2010['day_of_week'] = rides_september_2010['pickup_datetime'].dt.dayofweek\n"
     ]
    }
   ],
   "source": [
    "#Filter for rides in September 2010\n",
    "rides_september_2010 = df_cleaned[(df_cleaned['pickup_datetime'].dt.year == 2010) & (df_cleaned['pickup_datetime'].dt.month == 9)]\n",
    "\n",
    "#Extract the day of the week (0 = Monday, 6 = Sunday)\n",
    "rides_september_2010['day_of_week'] = rides_september_2010['pickup_datetime'].dt.dayofweek\n",
    "\n",
    "#Count rides by day of the week\n",
    "rides_by_day_of_week = rides_september_2010['day_of_week'].value_counts()\n",
    "\n",
    "#Find the day with the maximum number of rides\n",
    "max_rides_day = rides_by_day_of_week.idxmax()\n",
    "max_rides_count = rides_by_day_of_week.max()\n",
    "\n",
    "# Convert the numeric day of the week to the corresponding weekday name\n",
    "days = {0: 'Monday', 1: 'Tuesday', 2: 'Wednesday', 3: 'Thursday', 4: 'Friday', 5: 'Saturday', 6: 'Sunday'}\n",
    "max_rides_day_name = days[max_rides_day]\n",
    "\n",
    "# Print the result\n",
    "print(f\"The day of the week with the maximum rides in September 2010 is {max_rides_day_name}, with {max_rides_count} rides.\")"
   ]
  },
  {
   "cell_type": "code",
   "execution_count": 621,
   "id": "85c685b7-c1b2-417c-8a3e-91a8b5604d7c",
   "metadata": {},
   "outputs": [],
   "source": [
    "#On which day of the week in September 2010, maximum rides were recorded ?\n",
    "#Answer: The day of the week with the maximum rides in September 2010 is Thursday, with 457 rides"
   ]
  },
  {
   "cell_type": "code",
   "execution_count": null,
   "id": "58489578-69d0-4c6e-89ac-e41a65838025",
   "metadata": {},
   "outputs": [],
   "source": []
  },
  {
   "cell_type": "code",
   "execution_count": 624,
   "id": "e38e88b4-2c8a-43a9-a35a-3e167dc0f36e",
   "metadata": {},
   "outputs": [],
   "source": [
    "# Apply a Machine Learning Algorithm to predict the fare amount given following input features:\n",
    "# passenger_count, distance and ride_week_day.\n",
    "\n",
    "# Perform a 70-30 split of data.\n",
    "\n",
    "# Which algorithm gives the least adjusted R square value?"
   ]
  },
  {
   "cell_type": "markdown",
   "id": "d83fc873-7fe1-42fe-b872-9bcbb2e26df5",
   "metadata": {},
   "source": [
    "##### Import Libraries"
   ]
  },
  {
   "cell_type": "code",
   "execution_count": 627,
   "id": "a9150bf0-f3c0-4781-848c-18ecd805b79e",
   "metadata": {},
   "outputs": [],
   "source": [
    "from sklearn.model_selection import train_test_split\n",
    "from sklearn.linear_model import LinearRegression\n",
    "from sklearn.tree import DecisionTreeClassifier\n",
    "from sklearn.ensemble import RandomForestRegressor\n",
    "from sklearn.neighbors import KNeighborsClassifier\n",
    "from sklearn.metrics import r2_score"
   ]
  },
  {
   "cell_type": "code",
   "execution_count": 629,
   "id": "3914ee44-acaf-4a30-9897-d6fef59e605b",
   "metadata": {},
   "outputs": [],
   "source": [
    "df_cleaned['distance'] = df_cleaned.apply(lambda row: haversine(row['pickup_longitude'], row['pickup_latitude'], row['dropoff_longitude'], row['dropoff_latitude']), axis=1)\n",
    "\n",
    "df_cleaned['ride_week_day'] = df_cleaned['pickup_datetime'].dt.dayofweek"
   ]
  },
  {
   "cell_type": "code",
   "execution_count": 630,
   "id": "60b024e7-75f1-44bd-923e-b671f6538947",
   "metadata": {},
   "outputs": [
    {
     "data": {
      "text/html": [
       "<div>\n",
       "<style scoped>\n",
       "    .dataframe tbody tr th:only-of-type {\n",
       "        vertical-align: middle;\n",
       "    }\n",
       "\n",
       "    .dataframe tbody tr th {\n",
       "        vertical-align: top;\n",
       "    }\n",
       "\n",
       "    .dataframe thead th {\n",
       "        text-align: right;\n",
       "    }\n",
       "</style>\n",
       "<table border=\"1\" class=\"dataframe\">\n",
       "  <thead>\n",
       "    <tr style=\"text-align: right;\">\n",
       "      <th></th>\n",
       "      <th>ride_id</th>\n",
       "      <th>fare_amount</th>\n",
       "      <th>pickup_datetime</th>\n",
       "      <th>pickup_longitude</th>\n",
       "      <th>pickup_latitude</th>\n",
       "      <th>dropoff_longitude</th>\n",
       "      <th>dropoff_latitude</th>\n",
       "      <th>passenger_count</th>\n",
       "      <th>haversine_distance</th>\n",
       "      <th>pickup_year</th>\n",
       "      <th>pickup_month</th>\n",
       "      <th>distance</th>\n",
       "      <th>ride_week_day</th>\n",
       "    </tr>\n",
       "  </thead>\n",
       "  <tbody>\n",
       "    <tr>\n",
       "      <th>0</th>\n",
       "      <td>24238194</td>\n",
       "      <td>7.5</td>\n",
       "      <td>2015-05-07 19:52:06+00:00</td>\n",
       "      <td>-73.999817</td>\n",
       "      <td>40.738354</td>\n",
       "      <td>-73.999512</td>\n",
       "      <td>40.723217</td>\n",
       "      <td>1</td>\n",
       "      <td>1.683323</td>\n",
       "      <td>2015</td>\n",
       "      <td>5</td>\n",
       "      <td>1.683323</td>\n",
       "      <td>3</td>\n",
       "    </tr>\n",
       "    <tr>\n",
       "      <th>1</th>\n",
       "      <td>27835199</td>\n",
       "      <td>7.7</td>\n",
       "      <td>2009-07-17 20:04:56+00:00</td>\n",
       "      <td>-73.994355</td>\n",
       "      <td>40.728225</td>\n",
       "      <td>-73.994710</td>\n",
       "      <td>40.750325</td>\n",
       "      <td>1</td>\n",
       "      <td>2.457590</td>\n",
       "      <td>2009</td>\n",
       "      <td>7</td>\n",
       "      <td>2.457590</td>\n",
       "      <td>4</td>\n",
       "    </tr>\n",
       "    <tr>\n",
       "      <th>2</th>\n",
       "      <td>44984355</td>\n",
       "      <td>12.9</td>\n",
       "      <td>2009-08-24 21:45:00+00:00</td>\n",
       "      <td>-74.005043</td>\n",
       "      <td>40.740770</td>\n",
       "      <td>-73.962565</td>\n",
       "      <td>40.772647</td>\n",
       "      <td>1</td>\n",
       "      <td>5.036377</td>\n",
       "      <td>2009</td>\n",
       "      <td>8</td>\n",
       "      <td>5.036377</td>\n",
       "      <td>0</td>\n",
       "    </tr>\n",
       "    <tr>\n",
       "      <th>3</th>\n",
       "      <td>25894730</td>\n",
       "      <td>5.3</td>\n",
       "      <td>2009-06-26 08:22:21+00:00</td>\n",
       "      <td>-73.976124</td>\n",
       "      <td>40.790844</td>\n",
       "      <td>-73.965316</td>\n",
       "      <td>40.803349</td>\n",
       "      <td>3</td>\n",
       "      <td>1.661683</td>\n",
       "      <td>2009</td>\n",
       "      <td>6</td>\n",
       "      <td>1.661683</td>\n",
       "      <td>4</td>\n",
       "    </tr>\n",
       "    <tr>\n",
       "      <th>4</th>\n",
       "      <td>17610152</td>\n",
       "      <td>16.0</td>\n",
       "      <td>2014-08-28 17:47:00+00:00</td>\n",
       "      <td>-73.925023</td>\n",
       "      <td>40.744085</td>\n",
       "      <td>-73.973082</td>\n",
       "      <td>40.761247</td>\n",
       "      <td>5</td>\n",
       "      <td>4.475450</td>\n",
       "      <td>2014</td>\n",
       "      <td>8</td>\n",
       "      <td>4.475450</td>\n",
       "      <td>3</td>\n",
       "    </tr>\n",
       "  </tbody>\n",
       "</table>\n",
       "</div>"
      ],
      "text/plain": [
       "    ride_id  fare_amount           pickup_datetime  pickup_longitude  \\\n",
       "0  24238194          7.5 2015-05-07 19:52:06+00:00        -73.999817   \n",
       "1  27835199          7.7 2009-07-17 20:04:56+00:00        -73.994355   \n",
       "2  44984355         12.9 2009-08-24 21:45:00+00:00        -74.005043   \n",
       "3  25894730          5.3 2009-06-26 08:22:21+00:00        -73.976124   \n",
       "4  17610152         16.0 2014-08-28 17:47:00+00:00        -73.925023   \n",
       "\n",
       "   pickup_latitude  dropoff_longitude  dropoff_latitude  passenger_count  \\\n",
       "0        40.738354         -73.999512         40.723217                1   \n",
       "1        40.728225         -73.994710         40.750325                1   \n",
       "2        40.740770         -73.962565         40.772647                1   \n",
       "3        40.790844         -73.965316         40.803349                3   \n",
       "4        40.744085         -73.973082         40.761247                5   \n",
       "\n",
       "   haversine_distance  pickup_year  pickup_month  distance  ride_week_day  \n",
       "0            1.683323         2015             5  1.683323              3  \n",
       "1            2.457590         2009             7  2.457590              4  \n",
       "2            5.036377         2009             8  5.036377              0  \n",
       "3            1.661683         2009             6  1.661683              4  \n",
       "4            4.475450         2014             8  4.475450              3  "
      ]
     },
     "execution_count": 630,
     "metadata": {},
     "output_type": "execute_result"
    }
   ],
   "source": [
    "df_cleaned.head()"
   ]
  },
  {
   "cell_type": "code",
   "execution_count": 633,
   "id": "b335e8ee-7445-4e2b-b3c6-07515a500030",
   "metadata": {},
   "outputs": [],
   "source": [
    "# Define the features and target\n",
    "X = df_cleaned[['passenger_count', 'distance', 'ride_week_day']]\n",
    "y = df_cleaned['fare_amount']"
   ]
  },
  {
   "cell_type": "code",
   "execution_count": 635,
   "id": "179a06a3-8a5d-4191-bc16-bedd755c0cce",
   "metadata": {},
   "outputs": [],
   "source": [
    "# Split data into training and testing (70-30 split)\n",
    "X_train, X_test, y_train, y_test = train_test_split(X, y, test_size=0.3, random_state=42)"
   ]
  },
  {
   "cell_type": "code",
   "execution_count": 637,
   "id": "436a431f-25ed-4e9e-a620-fb93a7e26986",
   "metadata": {},
   "outputs": [
    {
     "name": "stdout",
     "output_type": "stream",
     "text": [
      "ride_id               0\n",
      "fare_amount           0\n",
      "pickup_datetime       0\n",
      "pickup_longitude      0\n",
      "pickup_latitude       0\n",
      "dropoff_longitude     0\n",
      "dropoff_latitude      0\n",
      "passenger_count       0\n",
      "haversine_distance    0\n",
      "pickup_year           0\n",
      "pickup_month          0\n",
      "distance              0\n",
      "ride_week_day         0\n",
      "dtype: int64\n"
     ]
    }
   ],
   "source": [
    "\n",
    "# Check for missing values in each column\n",
    "missing_values_per_column = df_cleaned.isna().sum()\n",
    "\n",
    "# Print the result\n",
    "print(missing_values_per_column)"
   ]
  },
  {
   "cell_type": "code",
   "execution_count": 639,
   "id": "44378ef3-24b5-4279-a2f1-5c50a3b00262",
   "metadata": {},
   "outputs": [
    {
     "data": {
      "text/html": [
       "<style>#sk-container-id-7 {color: black;}#sk-container-id-7 pre{padding: 0;}#sk-container-id-7 div.sk-toggleable {background-color: white;}#sk-container-id-7 label.sk-toggleable__label {cursor: pointer;display: block;width: 100%;margin-bottom: 0;padding: 0.3em;box-sizing: border-box;text-align: center;}#sk-container-id-7 label.sk-toggleable__label-arrow:before {content: \"▸\";float: left;margin-right: 0.25em;color: #696969;}#sk-container-id-7 label.sk-toggleable__label-arrow:hover:before {color: black;}#sk-container-id-7 div.sk-estimator:hover label.sk-toggleable__label-arrow:before {color: black;}#sk-container-id-7 div.sk-toggleable__content {max-height: 0;max-width: 0;overflow: hidden;text-align: left;background-color: #f0f8ff;}#sk-container-id-7 div.sk-toggleable__content pre {margin: 0.2em;color: black;border-radius: 0.25em;background-color: #f0f8ff;}#sk-container-id-7 input.sk-toggleable__control:checked~div.sk-toggleable__content {max-height: 200px;max-width: 100%;overflow: auto;}#sk-container-id-7 input.sk-toggleable__control:checked~label.sk-toggleable__label-arrow:before {content: \"▾\";}#sk-container-id-7 div.sk-estimator input.sk-toggleable__control:checked~label.sk-toggleable__label {background-color: #d4ebff;}#sk-container-id-7 div.sk-label input.sk-toggleable__control:checked~label.sk-toggleable__label {background-color: #d4ebff;}#sk-container-id-7 input.sk-hidden--visually {border: 0;clip: rect(1px 1px 1px 1px);clip: rect(1px, 1px, 1px, 1px);height: 1px;margin: -1px;overflow: hidden;padding: 0;position: absolute;width: 1px;}#sk-container-id-7 div.sk-estimator {font-family: monospace;background-color: #f0f8ff;border: 1px dotted black;border-radius: 0.25em;box-sizing: border-box;margin-bottom: 0.5em;}#sk-container-id-7 div.sk-estimator:hover {background-color: #d4ebff;}#sk-container-id-7 div.sk-parallel-item::after {content: \"\";width: 100%;border-bottom: 1px solid gray;flex-grow: 1;}#sk-container-id-7 div.sk-label:hover label.sk-toggleable__label {background-color: #d4ebff;}#sk-container-id-7 div.sk-serial::before {content: \"\";position: absolute;border-left: 1px solid gray;box-sizing: border-box;top: 0;bottom: 0;left: 50%;z-index: 0;}#sk-container-id-7 div.sk-serial {display: flex;flex-direction: column;align-items: center;background-color: white;padding-right: 0.2em;padding-left: 0.2em;position: relative;}#sk-container-id-7 div.sk-item {position: relative;z-index: 1;}#sk-container-id-7 div.sk-parallel {display: flex;align-items: stretch;justify-content: center;background-color: white;position: relative;}#sk-container-id-7 div.sk-item::before, #sk-container-id-7 div.sk-parallel-item::before {content: \"\";position: absolute;border-left: 1px solid gray;box-sizing: border-box;top: 0;bottom: 0;left: 50%;z-index: -1;}#sk-container-id-7 div.sk-parallel-item {display: flex;flex-direction: column;z-index: 1;position: relative;background-color: white;}#sk-container-id-7 div.sk-parallel-item:first-child::after {align-self: flex-end;width: 50%;}#sk-container-id-7 div.sk-parallel-item:last-child::after {align-self: flex-start;width: 50%;}#sk-container-id-7 div.sk-parallel-item:only-child::after {width: 0;}#sk-container-id-7 div.sk-dashed-wrapped {border: 1px dashed gray;margin: 0 0.4em 0.5em 0.4em;box-sizing: border-box;padding-bottom: 0.4em;background-color: white;}#sk-container-id-7 div.sk-label label {font-family: monospace;font-weight: bold;display: inline-block;line-height: 1.2em;}#sk-container-id-7 div.sk-label-container {text-align: center;}#sk-container-id-7 div.sk-container {/* jupyter's `normalize.less` sets `[hidden] { display: none; }` but bootstrap.min.css set `[hidden] { display: none !important; }` so we also need the `!important` here to be able to override the default hidden behavior on the sphinx rendered scikit-learn.org. See: https://github.com/scikit-learn/scikit-learn/issues/21755 */display: inline-block !important;position: relative;}#sk-container-id-7 div.sk-text-repr-fallback {display: none;}</style><div id=\"sk-container-id-7\" class=\"sk-top-container\"><div class=\"sk-text-repr-fallback\"><pre>LinearRegression()</pre><b>In a Jupyter environment, please rerun this cell to show the HTML representation or trust the notebook. <br />On GitHub, the HTML representation is unable to render, please try loading this page with nbviewer.org.</b></div><div class=\"sk-container\" hidden><div class=\"sk-item\"><div class=\"sk-estimator sk-toggleable\"><input class=\"sk-toggleable__control sk-hidden--visually\" id=\"sk-estimator-id-7\" type=\"checkbox\" checked><label for=\"sk-estimator-id-7\" class=\"sk-toggleable__label sk-toggleable__label-arrow\">LinearRegression</label><div class=\"sk-toggleable__content\"><pre>LinearRegression()</pre></div></div></div></div></div>"
      ],
      "text/plain": [
       "LinearRegression()"
      ]
     },
     "execution_count": 639,
     "metadata": {},
     "output_type": "execute_result"
    }
   ],
   "source": [
    "# Train Linear Regression Model\n",
    "linear_reg = LinearRegression()\n",
    "linear_reg.fit(X_train, y_train)"
   ]
  },
  {
   "cell_type": "code",
   "execution_count": 641,
   "id": "b2178622-3cec-4c1e-b4ec-724ac8cbd1a3",
   "metadata": {},
   "outputs": [],
   "source": [
    "# Predict using the model\n",
    "y_pred_lr = linear_reg.predict(X_test)"
   ]
  },
  {
   "cell_type": "code",
   "execution_count": 643,
   "id": "916056e9-c237-4de7-826d-bfc550d6f7a6",
   "metadata": {},
   "outputs": [],
   "source": [
    "# Calculate R-squared\n",
    "r2_lr = r2_score(y_test, y_pred_lr)"
   ]
  },
  {
   "cell_type": "code",
   "execution_count": 645,
   "id": "6330c831-2259-4309-a178-64d465015cec",
   "metadata": {},
   "outputs": [],
   "source": [
    "# Manually calculate Adjusted R-squared\n",
    "n = len(y_test)  # number of samples\n",
    "p = X_test.shape[1]  # number of features\n",
    "adj_r2_lr = 1 - (1 - r2_lr) * (n - 1) / (n - p - 1)"
   ]
  },
  {
   "cell_type": "code",
   "execution_count": 647,
   "id": "e2f293c3-c34c-480f-a7d3-49a5ae996c91",
   "metadata": {},
   "outputs": [
    {
     "name": "stdout",
     "output_type": "stream",
     "text": [
      "Linear Regression R-squared: 0.0004\n",
      "Linear Regression Adjusted R-squared: 0.0004\n"
     ]
    }
   ],
   "source": [
    "# Print R-squared and Adjusted R-squared\n",
    "print(f\"Linear Regression R-squared: {r2_lr:.4f}\")\n",
    "print(f\"Linear Regression Adjusted R-squared: {adj_r2_lr:.4f}\")"
   ]
  },
  {
   "cell_type": "code",
   "execution_count": 649,
   "id": "25b46ef7-27fd-47a0-9281-25cdf3a1168a",
   "metadata": {},
   "outputs": [],
   "source": [
    "# Decision Tree Classifier\n",
    "#Decision Tree Classifier isn't suitable for predicting continuous values.(like fare amount)\n",
    "#Similarly, KNN(K-Nearest Neighbour) isn't suitable for continuous values"
   ]
  },
  {
   "cell_type": "code",
   "execution_count": null,
   "id": "6b2453b2-8fe1-47aa-8b59-f0000236a7de",
   "metadata": {},
   "outputs": [],
   "source": []
  },
  {
   "cell_type": "code",
   "execution_count": 653,
   "id": "494fefaf-9707-4933-96d6-bbfef34d9428",
   "metadata": {},
   "outputs": [
    {
     "name": "stdout",
     "output_type": "stream",
     "text": [
      "Random Forest Regression R-squared: 0.6311\n",
      "Random Forest Regression Adjusted R-squared: 0.6311\n"
     ]
    }
   ],
   "source": [
    "# Train Random Forest Regression model\n",
    "rf_reg = RandomForestRegressor()\n",
    "rf_reg.fit(X_train, y_train)\n",
    "\n",
    "# Predict using the model\n",
    "y_pred_rf = rf_reg.predict(X_test)\n",
    "\n",
    "# Calculate R-squared\n",
    "r2_rf = r2_score(y_test, y_pred_rf)\n",
    "\n",
    "# Manually calculate Adjusted R-squared\n",
    "adj_r2_rf = 1 - (1 - r2_rf) * (n - 1) / (n - p - 1)\n",
    "\n",
    "# Print R-squared and Adjusted R-squared\n",
    "print(f\"Random Forest Regression R-squared: {r2_rf:.4f}\")\n",
    "print(f\"Random Forest Regression Adjusted R-squared: {adj_r2_rf:.4f}\")"
   ]
  },
  {
   "cell_type": "markdown",
   "id": "14923899-97a4-45fb-837b-dc9cd0ed0bbb",
   "metadata": {},
   "source": [
    "###### The Random Forest Regression is better in this case based on the R-squared and Adjusted R-squared values.\n",
    "###### Linear Regression model explains only about 0.04% of the variance in the fare amounts, which is extremely low.\n",
    "###### The Random Forest Regression model explains about 63.11% of the variance in the fare amounts, which is a far better result."
   ]
  },
  {
   "cell_type": "code",
   "execution_count": null,
   "id": "1ef821f2-96fe-4dd4-a076-ddd01665f13c",
   "metadata": {},
   "outputs": [],
   "source": []
  }
 ],
 "metadata": {
  "kernelspec": {
   "display_name": "Python 3 (ipykernel)",
   "language": "python",
   "name": "python3"
  },
  "language_info": {
   "codemirror_mode": {
    "name": "ipython",
    "version": 3
   },
   "file_extension": ".py",
   "mimetype": "text/x-python",
   "name": "python",
   "nbconvert_exporter": "python",
   "pygments_lexer": "ipython3",
   "version": "3.11.5"
  }
 },
 "nbformat": 4,
 "nbformat_minor": 5
}
